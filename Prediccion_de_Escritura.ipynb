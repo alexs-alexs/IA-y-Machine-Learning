{
  "cells": [
    {
      "cell_type": "markdown",
      "metadata": {
        "id": "view-in-github",
        "colab_type": "text"
      },
      "source": [
        "<a href=\"https://colab.research.google.com/github/alexs-alexs/Machine-Learning/blob/main/Prediccion_de_Escritura.ipynb\" target=\"_parent\"><img src=\"https://colab.research.google.com/assets/colab-badge.svg\" alt=\"Open In Colab\"/></a>"
      ]
    },
    {
      "cell_type": "code",
      "source": [
        "Entrenamiento con datos de escritura mnist"
      ],
      "metadata": {
        "id": "eQEGyxKVNh_q"
      },
      "id": "eQEGyxKVNh_q",
      "execution_count": null,
      "outputs": []
    },
    {
      "cell_type": "code",
      "execution_count": null,
      "id": "3993aed4",
      "metadata": {
        "id": "3993aed4",
        "outputId": "1ff785fa-a9c2-46a7-a47f-72110f1889f9"
      },
      "outputs": [
        {
          "name": "stdout",
          "output_type": "stream",
          "text": [
            "WARNING:tensorflow:From C:\\Users\\alexa\\anaconda3\\Lib\\site-packages\\keras\\src\\losses.py:2976: The name tf.losses.sparse_softmax_cross_entropy is deprecated. Please use tf.compat.v1.losses.sparse_softmax_cross_entropy instead.\n",
            "\n",
            "WARNING:tensorflow:From C:\\Users\\alexa\\anaconda3\\Lib\\site-packages\\keras\\src\\backend.py:873: The name tf.get_default_graph is deprecated. Please use tf.compat.v1.get_default_graph instead.\n",
            "\n",
            "WARNING:tensorflow:From C:\\Users\\alexa\\anaconda3\\Lib\\site-packages\\keras\\src\\layers\\pooling\\max_pooling2d.py:161: The name tf.nn.max_pool is deprecated. Please use tf.nn.max_pool2d instead.\n",
            "\n",
            "WARNING:tensorflow:From C:\\Users\\alexa\\anaconda3\\Lib\\site-packages\\keras\\src\\optimizers\\__init__.py:309: The name tf.train.Optimizer is deprecated. Please use tf.compat.v1.train.Optimizer instead.\n",
            "\n",
            "Epoch 1/10\n",
            "WARNING:tensorflow:From C:\\Users\\alexa\\anaconda3\\Lib\\site-packages\\keras\\src\\utils\\tf_utils.py:492: The name tf.ragged.RaggedTensorValue is deprecated. Please use tf.compat.v1.ragged.RaggedTensorValue instead.\n",
            "\n",
            "WARNING:tensorflow:From C:\\Users\\alexa\\anaconda3\\Lib\\site-packages\\keras\\src\\engine\\base_layer_utils.py:384: The name tf.executing_eagerly_outside_functions is deprecated. Please use tf.compat.v1.executing_eagerly_outside_functions instead.\n",
            "\n",
            "422/422 [==============================] - 11s 23ms/step - loss: 0.4495 - accuracy: 0.8595 - val_loss: 0.0783 - val_accuracy: 0.9763\n",
            "Epoch 2/10\n",
            "422/422 [==============================] - 10s 23ms/step - loss: 0.1582 - accuracy: 0.9530 - val_loss: 0.0527 - val_accuracy: 0.9853\n",
            "Epoch 3/10\n",
            "422/422 [==============================] - 9s 22ms/step - loss: 0.1162 - accuracy: 0.9664 - val_loss: 0.0424 - val_accuracy: 0.9878\n",
            "Epoch 4/10\n",
            "422/422 [==============================] - 10s 23ms/step - loss: 0.0941 - accuracy: 0.9714 - val_loss: 0.0446 - val_accuracy: 0.9875\n",
            "Epoch 5/10\n",
            "422/422 [==============================] - 9s 22ms/step - loss: 0.0805 - accuracy: 0.9765 - val_loss: 0.0380 - val_accuracy: 0.9898\n",
            "Epoch 6/10\n",
            "422/422 [==============================] - 10s 23ms/step - loss: 0.0714 - accuracy: 0.9794 - val_loss: 0.0410 - val_accuracy: 0.9893\n",
            "Epoch 7/10\n",
            "422/422 [==============================] - 9s 22ms/step - loss: 0.0641 - accuracy: 0.9807 - val_loss: 0.0392 - val_accuracy: 0.9890\n",
            "Epoch 8/10\n",
            "422/422 [==============================] - 10s 23ms/step - loss: 0.0570 - accuracy: 0.9830 - val_loss: 0.0391 - val_accuracy: 0.9905\n",
            "Epoch 9/10\n",
            "422/422 [==============================] - 10s 23ms/step - loss: 0.0520 - accuracy: 0.9842 - val_loss: 0.0402 - val_accuracy: 0.9897\n",
            "Epoch 10/10\n",
            "422/422 [==============================] - 9s 22ms/step - loss: 0.0479 - accuracy: 0.9858 - val_loss: 0.0427 - val_accuracy: 0.9895\n",
            "313/313 [==============================] - 1s 3ms/step - loss: 0.0283 - accuracy: 0.9904\n",
            "Test accuracy: 0.9904000163078308\n"
          ]
        },
        {
          "name": "stderr",
          "output_type": "stream",
          "text": [
            "C:\\Users\\alexa\\anaconda3\\Lib\\site-packages\\keras\\src\\engine\\training.py:3103: UserWarning: You are saving your model as an HDF5 file via `model.save()`. This file format is considered legacy. We recommend using instead the native Keras format, e.g. `model.save('my_model.keras')`.\n",
            "  saving_api.save_model(\n"
          ]
        }
      ],
      "source": [
        "import numpy as np\n",
        "import matplotlib.pyplot as plt\n",
        "from tensorflow.keras.datasets import mnist\n",
        "from tensorflow.keras.models import Sequential\n",
        "from tensorflow.keras.layers import Conv2D, MaxPooling2D, Flatten, Dense, Dropout\n",
        "from tensorflow.keras.utils import to_categorical\n",
        "\n",
        "# Cargar el conjunto de datos MNIST\n",
        "(X_train, y_train), (X_test, y_test) = mnist.load_data()\n",
        "\n",
        "# Preprocesar los datos\n",
        "X_train = X_train.reshape((X_train.shape[0], 28, 28, 1)).astype('float32') / 255\n",
        "X_test = X_test.reshape((X_test.shape[0], 28, 28, 1)).astype('float32') / 255\n",
        "y_train = to_categorical(y_train)\n",
        "y_test = to_categorical(y_test)\n",
        "\n",
        "# Definir el modelo de red neuronal convolucional\n",
        "model = Sequential([\n",
        "    Conv2D(32, (3, 3), activation='relu', input_shape=(28, 28, 1)),\n",
        "    MaxPooling2D((2, 2)),\n",
        "    Conv2D(64, (3, 3), activation='relu'),\n",
        "    MaxPooling2D((2, 2)),\n",
        "    Flatten(),\n",
        "    Dense(64, activation='relu'),\n",
        "    Dropout(0.5),\n",
        "    Dense(10, activation='softmax')\n",
        "])\n",
        "\n",
        "# Compilar el modelo\n",
        "model.compile(optimizer='adam',\n",
        "              loss='categorical_crossentropy',\n",
        "              metrics=['accuracy'])\n",
        "\n",
        "# Entrenar el modelo\n",
        "history = model.fit(X_train, y_train, epochs=10, batch_size=128, validation_split=0.1)\n",
        "\n",
        "# Evaluar el modelo con los datos de prueba\n",
        "test_loss, test_acc = model.evaluate(X_test, y_test)\n",
        "\n",
        "print('Test accuracy:', test_acc)\n",
        "\n",
        "# Guardar el modelo entrenado\n",
        "model.save('mnist_cnn_model.h5')\n",
        "\n"
      ]
    },
    {
      "cell_type": "markdown",
      "source": [
        "Ventana Tkinter prueba de Escritura"
      ],
      "metadata": {
        "id": "3pDC6nQ3NaEy"
      },
      "id": "3pDC6nQ3NaEy"
    },
    {
      "cell_type": "code",
      "execution_count": null,
      "id": "8e1e998c",
      "metadata": {
        "id": "8e1e998c",
        "outputId": "646faf39-291a-4a3e-e89a-35463f79aeb5"
      },
      "outputs": [
        {
          "name": "stdout",
          "output_type": "stream",
          "text": [
            "1/1 [==============================] - 0s 260ms/step\n",
            "1/1 [==============================] - 0s 31ms/step\n",
            "1/1 [==============================] - 0s 31ms/step\n",
            "1/1 [==============================] - 0s 31ms/step\n",
            "1/1 [==============================] - 0s 31ms/step\n",
            "1/1 [==============================] - 0s 31ms/step\n",
            "1/1 [==============================] - 0s 16ms/step\n",
            "1/1 [==============================] - 0s 30ms/step\n",
            "1/1 [==============================] - 0s 22ms/step\n",
            "1/1 [==============================] - 0s 18ms/step\n",
            "1/1 [==============================] - 0s 16ms/step\n",
            "1/1 [==============================] - 0s 22ms/step\n",
            "1/1 [==============================] - 0s 32ms/step\n",
            "1/1 [==============================] - 0s 31ms/step\n",
            "1/1 [==============================] - 0s 16ms/step\n",
            "1/1 [==============================] - 0s 22ms/step\n",
            "1/1 [==============================] - 0s 24ms/step\n",
            "1/1 [==============================] - 0s 16ms/step\n",
            "1/1 [==============================] - 0s 10ms/step\n",
            "1/1 [==============================] - 0s 21ms/step\n",
            "1/1 [==============================] - 0s 31ms/step\n",
            "1/1 [==============================] - 0s 16ms/step\n",
            "1/1 [==============================] - 0s 31ms/step\n",
            "1/1 [==============================] - 0s 31ms/step\n",
            "1/1 [==============================] - 0s 22ms/step\n",
            "1/1 [==============================] - 0s 17ms/step\n",
            "1/1 [==============================] - 0s 16ms/step\n",
            "1/1 [==============================] - 0s 16ms/step\n"
          ]
        }
      ],
      "source": [
        "import tkinter as tk\n",
        "from PIL import Image, ImageDraw\n",
        "import numpy as np\n",
        "from tensorflow.keras.models import load_model\n",
        "\n",
        "# Cargar el modelo entrenado\n",
        "model = load_model('mnist_cnn_model.h5')\n",
        "\n",
        "def predict_digit():\n",
        "    # Obtener la imagen del lienzo\n",
        "    digit = image1.crop((100, 100, 500, 500))  # Ajustar las coordenadas según el tamaño del lienzo\n",
        "\n",
        "    # Preprocesar la imagen (escala de grises y redimensionar a 28x28 píxeles)\n",
        "    digit = digit.convert('L').resize((28, 28))\n",
        "\n",
        "    # Convertir la imagen a un array numpy\n",
        "    digit_array = np.array(digit)\n",
        "\n",
        "    # Normalizar los valores de píxeles\n",
        "    digit_array = digit_array / 255.0\n",
        "\n",
        "    # Hacer la predicción con el modelo\n",
        "    prediction = model.predict(np.expand_dims(digit_array, axis=0))\n",
        "\n",
        "    # Obtener el dígito predicho\n",
        "    digit_predicted = np.argmax(prediction)\n",
        "\n",
        "    # Actualizar la etiqueta con el resultado de la predicción\n",
        "    label_result.config(text=\"Número predicho: \" + str(digit_predicted))\n",
        "\n",
        "# Función para limpiar el lienzo\n",
        "def clear_canvas():\n",
        "    canvas.delete(\"all\")\n",
        "    label_result.config(text=\"Número predicho: \")\n",
        "\n",
        "# Crear la ventana principal\n",
        "root = tk.Tk()\n",
        "root.title(\"Reconocimiento de Dígitos\")\n",
        "\n",
        "# Crear un lienzo para dibujar\n",
        "canvas = tk.Canvas(root, width=400, height=400, bg=\"white\")\n",
        "canvas.pack()\n",
        "\n",
        "image1 = Image.new(\"RGB\", (500, 500), \"white\")\n",
        "draw = ImageDraw.Draw(image1)\n",
        "\n",
        "# Función para dibujar en el lienzo\n",
        "def paint(event):\n",
        "    x1, y1 = (event.x - 10), (event.y - 10)\n",
        "    x2, y2 = (event.x + 10), (event.y + 10)\n",
        "    canvas.create_oval(x1, y1, x2, y2, fill=\"black\", width=0)\n",
        "    draw.ellipse([x1, y1, x2, y2], fill=\"black\")\n",
        "\n",
        "# Capturar eventos del mouse\n",
        "canvas.bind(\"<B1-Motion>\", paint)\n",
        "\n",
        "# Botón para realizar la predicción\n",
        "btn_predict = tk.Button(root, text=\"Predecir\", command=predict_digit)\n",
        "btn_predict.pack()\n",
        "\n",
        "# Botón para limpiar el lienzo\n",
        "btn_clear = tk.Button(root, text=\"Limpiar\", command=clear_canvas)\n",
        "btn_clear.pack()\n",
        "\n",
        "# Etiqueta para mostrar el resultado de la predicción\n",
        "label_result = tk.Label(root, text=\"Número predicho: \")\n",
        "label_result.pack()\n",
        "\n",
        "root.mainloop()\n"
      ]
    }
  ],
  "metadata": {
    "kernelspec": {
      "display_name": "Python 3 (ipykernel)",
      "language": "python",
      "name": "python3"
    },
    "language_info": {
      "codemirror_mode": {
        "name": "ipython",
        "version": 3
      },
      "file_extension": ".py",
      "mimetype": "text/x-python",
      "name": "python",
      "nbconvert_exporter": "python",
      "pygments_lexer": "ipython3",
      "version": "3.11.4"
    },
    "colab": {
      "provenance": [],
      "include_colab_link": true
    }
  },
  "nbformat": 4,
  "nbformat_minor": 5
}