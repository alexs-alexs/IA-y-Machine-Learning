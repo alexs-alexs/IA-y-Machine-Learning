{
  "cells": [
    {
      "cell_type": "markdown",
      "metadata": {
        "id": "view-in-github",
        "colab_type": "text"
      },
      "source": [
        "<a href=\"https://colab.research.google.com/github/alexs-alexs/Machine-Learning/blob/main/Prueba_de_diabetes.ipynb\" target=\"_parent\"><img src=\"https://colab.research.google.com/assets/colab-badge.svg\" alt=\"Open In Colab\"/></a>"
      ]
    },
    {
      "cell_type": "code",
      "execution_count": null,
      "metadata": {
        "id": "-Rd2C5SiOXTl"
      },
      "outputs": [],
      "source": [
        "# Manipulación de datos\n",
        "import pandas as pd\n",
        "# Operaciones numéricas\n",
        "import numpy as np\n",
        "# Para medición del tiempo que toma ejecutar los procesos\n",
        "from time import time\n",
        "# Para separar datos de entrenamiento y prueba\n",
        "from sklearn.model_selection import train_test_split\n",
        "# Librería para SVM\n",
        "from sklearn.svm import SVC  # SOPORTE VECTORIAL CLASIFICACION\n",
        "# Medición de precisión\n",
        "from sklearn.metrics import accuracy_score, confusion_matrix\n",
        "# Generar gráficos\n",
        "import matplotlib.pyplot as plt"
      ]
    },
    {
      "cell_type": "code",
      "execution_count": null,
      "metadata": {
        "scrolled": false,
        "id": "Vi4agaCBOXTr",
        "outputId": "6094d66b-9d28-405d-c44d-9aa3cb253a73"
      },
      "outputs": [
        {
          "name": "stdout",
          "output_type": "stream",
          "text": [
            "<class 'pandas.core.frame.DataFrame'>\n",
            "RangeIndex: 768 entries, 0 to 767\n",
            "Data columns (total 9 columns):\n",
            " #   Column                    Non-Null Count  Dtype  \n",
            "---  ------                    --------------  -----  \n",
            " 0   Pregnancies               768 non-null    int64  \n",
            " 1   Glucose                   768 non-null    int64  \n",
            " 2   BloodPressure             768 non-null    int64  \n",
            " 3   SkinThickness             768 non-null    int64  \n",
            " 4   Insulin                   768 non-null    int64  \n",
            " 5   BMI                       768 non-null    float64\n",
            " 6   DiabetesPedigreeFunction  768 non-null    float64\n",
            " 7   Age                       768 non-null    int64  \n",
            " 8   Outcome                   768 non-null    int64  \n",
            "dtypes: float64(2), int64(7)\n",
            "memory usage: 54.1 KB\n"
          ]
        }
      ],
      "source": [
        "# Leemos el set de datos y lo cargamos en la variable df, que es un DataFrame de pandas\n",
        "diabetes_df = pd.read_csv('diabetes.csv')\n",
        "# Mostrar información sobre el set de datos\n",
        "diabetes_df.info()"
      ]
    },
    {
      "cell_type": "markdown",
      "metadata": {
        "id": "yCkBdrOnOXTt"
      },
      "source": [
        "Siempre es recomendable explorar el set de datos antes de realizar un análisis sobre el mismo. En este caso, simplemente mostraremos los primeros cinco registros para conocer cómo se componen."
      ]
    },
    {
      "cell_type": "code",
      "execution_count": null,
      "metadata": {
        "scrolled": false,
        "id": "UoT7t50hOXTy",
        "outputId": "922865c0-50b9-4889-b31c-7e2e4d5902a7"
      },
      "outputs": [
        {
          "data": {
            "text/html": [
              "<div>\n",
              "<style scoped>\n",
              "    .dataframe tbody tr th:only-of-type {\n",
              "        vertical-align: middle;\n",
              "    }\n",
              "\n",
              "    .dataframe tbody tr th {\n",
              "        vertical-align: top;\n",
              "    }\n",
              "\n",
              "    .dataframe thead th {\n",
              "        text-align: right;\n",
              "    }\n",
              "</style>\n",
              "<table border=\"1\" class=\"dataframe\">\n",
              "  <thead>\n",
              "    <tr style=\"text-align: right;\">\n",
              "      <th></th>\n",
              "      <th>Pregnancies</th>\n",
              "      <th>Glucose</th>\n",
              "      <th>BloodPressure</th>\n",
              "      <th>SkinThickness</th>\n",
              "      <th>Insulin</th>\n",
              "      <th>BMI</th>\n",
              "      <th>DiabetesPedigreeFunction</th>\n",
              "      <th>Age</th>\n",
              "      <th>Outcome</th>\n",
              "    </tr>\n",
              "  </thead>\n",
              "  <tbody>\n",
              "    <tr>\n",
              "      <th>0</th>\n",
              "      <td>6</td>\n",
              "      <td>148</td>\n",
              "      <td>72</td>\n",
              "      <td>35</td>\n",
              "      <td>0</td>\n",
              "      <td>33.6</td>\n",
              "      <td>0.627</td>\n",
              "      <td>50</td>\n",
              "      <td>1</td>\n",
              "    </tr>\n",
              "    <tr>\n",
              "      <th>1</th>\n",
              "      <td>1</td>\n",
              "      <td>85</td>\n",
              "      <td>66</td>\n",
              "      <td>29</td>\n",
              "      <td>0</td>\n",
              "      <td>26.6</td>\n",
              "      <td>0.351</td>\n",
              "      <td>31</td>\n",
              "      <td>0</td>\n",
              "    </tr>\n",
              "    <tr>\n",
              "      <th>2</th>\n",
              "      <td>8</td>\n",
              "      <td>183</td>\n",
              "      <td>64</td>\n",
              "      <td>0</td>\n",
              "      <td>0</td>\n",
              "      <td>23.3</td>\n",
              "      <td>0.672</td>\n",
              "      <td>32</td>\n",
              "      <td>1</td>\n",
              "    </tr>\n",
              "    <tr>\n",
              "      <th>3</th>\n",
              "      <td>1</td>\n",
              "      <td>89</td>\n",
              "      <td>66</td>\n",
              "      <td>23</td>\n",
              "      <td>94</td>\n",
              "      <td>28.1</td>\n",
              "      <td>0.167</td>\n",
              "      <td>21</td>\n",
              "      <td>0</td>\n",
              "    </tr>\n",
              "    <tr>\n",
              "      <th>4</th>\n",
              "      <td>0</td>\n",
              "      <td>137</td>\n",
              "      <td>40</td>\n",
              "      <td>35</td>\n",
              "      <td>168</td>\n",
              "      <td>43.1</td>\n",
              "      <td>2.288</td>\n",
              "      <td>33</td>\n",
              "      <td>1</td>\n",
              "    </tr>\n",
              "  </tbody>\n",
              "</table>\n",
              "</div>"
            ],
            "text/plain": [
              "   Pregnancies  Glucose  BloodPressure  SkinThickness  Insulin   BMI  \\\n",
              "0            6      148             72             35        0  33.6   \n",
              "1            1       85             66             29        0  26.6   \n",
              "2            8      183             64              0        0  23.3   \n",
              "3            1       89             66             23       94  28.1   \n",
              "4            0      137             40             35      168  43.1   \n",
              "\n",
              "   DiabetesPedigreeFunction  Age  Outcome  \n",
              "0                     0.627   50        1  \n",
              "1                     0.351   31        0  \n",
              "2                     0.672   32        1  \n",
              "3                     0.167   21        0  \n",
              "4                     2.288   33        1  "
            ]
          },
          "execution_count": 5,
          "metadata": {},
          "output_type": "execute_result"
        }
      ],
      "source": [
        "diabetes_df.head()"
      ]
    },
    {
      "cell_type": "markdown",
      "metadata": {
        "id": "tqEEp-YTOXTz"
      },
      "source": [
        "Nuestro objetivo será predecir la columna `Outcome`, que contiene el resultado del diagnóstico. Es importante comprender de qué manera se distribuyen las muestras para identificar posibles fallas y tendencias falsas (sesgos) en nuestro algoritmo."
      ]
    },
    {
      "cell_type": "code",
      "execution_count": null,
      "metadata": {
        "id": "jFtxA_y1OXTz",
        "outputId": "f2f864f7-3c07-49a8-9721-8cb87c5acb3d"
      },
      "outputs": [
        {
          "data": {
            "text/plain": [
              "0    500\n",
              "1    268\n",
              "Name: Outcome, dtype: int64"
            ]
          },
          "execution_count": 6,
          "metadata": {},
          "output_type": "execute_result"
        }
      ],
      "source": [
        "# Contar los valores únicos de una columna en un DataFrame\n",
        "diabetes_df['Outcome'].value_counts()"
      ]
    },
    {
      "cell_type": "code",
      "execution_count": null,
      "metadata": {
        "id": "Q4bfFQ5aOXT0",
        "outputId": "b6073660-be0d-40b9-b601-36a8d8c8e1c9"
      },
      "outputs": [
        {
          "data": {
            "text/html": [
              "<div>\n",
              "<style scoped>\n",
              "    .dataframe tbody tr th:only-of-type {\n",
              "        vertical-align: middle;\n",
              "    }\n",
              "\n",
              "    .dataframe tbody tr th {\n",
              "        vertical-align: top;\n",
              "    }\n",
              "\n",
              "    .dataframe thead th {\n",
              "        text-align: right;\n",
              "    }\n",
              "</style>\n",
              "<table border=\"1\" class=\"dataframe\">\n",
              "  <thead>\n",
              "    <tr style=\"text-align: right;\">\n",
              "      <th></th>\n",
              "      <th>Pregnancies</th>\n",
              "      <th>Glucose</th>\n",
              "      <th>BloodPressure</th>\n",
              "      <th>SkinThickness</th>\n",
              "      <th>Insulin</th>\n",
              "      <th>BMI</th>\n",
              "      <th>DiabetesPedigreeFunction</th>\n",
              "      <th>Age</th>\n",
              "    </tr>\n",
              "  </thead>\n",
              "  <tbody>\n",
              "    <tr>\n",
              "      <th>0</th>\n",
              "      <td>6</td>\n",
              "      <td>148</td>\n",
              "      <td>72</td>\n",
              "      <td>35</td>\n",
              "      <td>0</td>\n",
              "      <td>33.6</td>\n",
              "      <td>0.627</td>\n",
              "      <td>50</td>\n",
              "    </tr>\n",
              "    <tr>\n",
              "      <th>1</th>\n",
              "      <td>1</td>\n",
              "      <td>85</td>\n",
              "      <td>66</td>\n",
              "      <td>29</td>\n",
              "      <td>0</td>\n",
              "      <td>26.6</td>\n",
              "      <td>0.351</td>\n",
              "      <td>31</td>\n",
              "    </tr>\n",
              "    <tr>\n",
              "      <th>2</th>\n",
              "      <td>8</td>\n",
              "      <td>183</td>\n",
              "      <td>64</td>\n",
              "      <td>0</td>\n",
              "      <td>0</td>\n",
              "      <td>23.3</td>\n",
              "      <td>0.672</td>\n",
              "      <td>32</td>\n",
              "    </tr>\n",
              "    <tr>\n",
              "      <th>3</th>\n",
              "      <td>1</td>\n",
              "      <td>89</td>\n",
              "      <td>66</td>\n",
              "      <td>23</td>\n",
              "      <td>94</td>\n",
              "      <td>28.1</td>\n",
              "      <td>0.167</td>\n",
              "      <td>21</td>\n",
              "    </tr>\n",
              "    <tr>\n",
              "      <th>4</th>\n",
              "      <td>0</td>\n",
              "      <td>137</td>\n",
              "      <td>40</td>\n",
              "      <td>35</td>\n",
              "      <td>168</td>\n",
              "      <td>43.1</td>\n",
              "      <td>2.288</td>\n",
              "      <td>33</td>\n",
              "    </tr>\n",
              "  </tbody>\n",
              "</table>\n",
              "</div>"
            ],
            "text/plain": [
              "   Pregnancies  Glucose  BloodPressure  SkinThickness  Insulin   BMI  \\\n",
              "0            6      148             72             35        0  33.6   \n",
              "1            1       85             66             29        0  26.6   \n",
              "2            8      183             64              0        0  23.3   \n",
              "3            1       89             66             23       94  28.1   \n",
              "4            0      137             40             35      168  43.1   \n",
              "\n",
              "   DiabetesPedigreeFunction  Age  \n",
              "0                     0.627   50  \n",
              "1                     0.351   31  \n",
              "2                     0.672   32  \n",
              "3                     0.167   21  \n",
              "4                     2.288   33  "
            ]
          },
          "execution_count": 7,
          "metadata": {},
          "output_type": "execute_result"
        }
      ],
      "source": [
        "# Crearemos un nuevo df llamado X (notar mayus) con las columnas de características\n",
        "# Se obtiene generando una lista de columnas del df a utilizar\n",
        "lista_caract = [\n",
        "    '\n",
        "    'Glucose',Pregnancies',\n",
        "    'BloodPressure',\n",
        "    'SkinThickness',\n",
        "    'Insulin',\n",
        "    'BMI',\n",
        "    'DiabetesPedigreeFunction',\n",
        "    'Age'\n",
        "]\n",
        "# Luego tomando esa lista del df original\n",
        "X = diabetes_df[lista_caract]\n",
        "# Mostraremos los primeros cinco registros para conocer cómo se compone X\n",
        "X.head()"
      ]
    },
    {
      "cell_type": "code",
      "execution_count": null,
      "metadata": {
        "id": "bHB-1c7aOXT1",
        "outputId": "dc04e4ff-83d7-4282-8478-0f48714e7cfb"
      },
      "outputs": [
        {
          "data": {
            "text/html": [
              "<div>\n",
              "<style scoped>\n",
              "    .dataframe tbody tr th:only-of-type {\n",
              "        vertical-align: middle;\n",
              "    }\n",
              "\n",
              "    .dataframe tbody tr th {\n",
              "        vertical-align: top;\n",
              "    }\n",
              "\n",
              "    .dataframe thead th {\n",
              "        text-align: right;\n",
              "    }\n",
              "</style>\n",
              "<table border=\"1\" class=\"dataframe\">\n",
              "  <thead>\n",
              "    <tr style=\"text-align: right;\">\n",
              "      <th></th>\n",
              "      <th>Outcome</th>\n",
              "    </tr>\n",
              "  </thead>\n",
              "  <tbody>\n",
              "    <tr>\n",
              "      <th>0</th>\n",
              "      <td>1</td>\n",
              "    </tr>\n",
              "    <tr>\n",
              "      <th>1</th>\n",
              "      <td>0</td>\n",
              "    </tr>\n",
              "    <tr>\n",
              "      <th>2</th>\n",
              "      <td>1</td>\n",
              "    </tr>\n",
              "    <tr>\n",
              "      <th>3</th>\n",
              "      <td>0</td>\n",
              "    </tr>\n",
              "    <tr>\n",
              "      <th>4</th>\n",
              "      <td>1</td>\n",
              "    </tr>\n",
              "  </tbody>\n",
              "</table>\n",
              "</div>"
            ],
            "text/plain": [
              "   Outcome\n",
              "0        1\n",
              "1        0\n",
              "2        1\n",
              "3        0\n",
              "4        1"
            ]
          },
          "execution_count": 8,
          "metadata": {},
          "output_type": "execute_result"
        }
      ],
      "source": [
        "# Utilizaremos el mismo procedimiento para generar y\n",
        "lista_etiq = ['Outcome']\n",
        "y = diabetes_df[lista_etiq]\n",
        "y.head()"
      ]
    },
    {
      "cell_type": "code",
      "execution_count": null,
      "metadata": {
        "id": "ZfqvZ3uvOXT1"
      },
      "outputs": [],
      "source": [
        "# Separar en datos de entrenamiento y datos de prueba\n",
        "X_train, X_test, y_train, y_test = train_test_split( X,y)"
      ]
    },
    {
      "cell_type": "code",
      "execution_count": null,
      "metadata": {
        "id": "P7fw3xvvOXT1"
      },
      "outputs": [],
      "source": [
        "# Definició del modelo que llamaremos clf\n",
        "clf = SVC(kernel='linear')"
      ]
    },
    {
      "cell_type": "code",
      "execution_count": null,
      "metadata": {
        "id": "MyNorof0OXT2",
        "outputId": "9c3db7d2-9bba-4284-f8f6-93b40956f916"
      },
      "outputs": [
        {
          "name": "stdout",
          "output_type": "stream",
          "text": [
            "Entrenamiento terminado en 3.413029432296753 segundos\n"
          ]
        }
      ],
      "source": [
        "# Guardamos el registro del momento en el que empezamos el entrenamiento\n",
        "hora_inicio = time()\n",
        "\n",
        "# Iniciamos el entrenamiento ejecutando el metodo fit\n",
        "# Los valores que enviamos son los valores de X y y\n",
        "#\n",
        "# El .ravel() que final de y.values es un pequeño truco para cambiar su forma\n",
        "# esto permite convertir una matriz de dos dimensiones en una sola dimesión,\n",
        "# con ello, cada elemento de esta nueva matriz corresponde a un registro de X\n",
        "clf.fit(X_train.values, y_train.values.ravel())\n",
        "\n",
        "# Imprimimos el tiempo tomado para el entrenamiento\n",
        "print(\"Entrenamiento terminado en {} segundos\".format(time() - hora_inicio))"
      ]
    },
    {
      "cell_type": "markdown",
      "metadata": {
        "id": "IKZyzvTzOXT2"
      },
      "source": [
        "Una vez terminado el entrenamiento, es necesario medir su precisión. Para ello, intentaremos predecir los datos de nuestra `y` de prueba utilizando nuestra `X` de prueba. A estos datos les llamaremos `y_pred`, pues contendrán nuestra predicción."
      ]
    },
    {
      "cell_type": "code",
      "execution_count": null,
      "metadata": {
        "scrolled": true,
        "id": "dIlBkwzsOXT3",
        "outputId": "f2918c8b-0ff0-4125-fb80-c3e68ca9ebdd"
      },
      "outputs": [
        {
          "name": "stdout",
          "output_type": "stream",
          "text": [
            "Predicción terminada en 0.020839691162109375 segundos\n"
          ]
        },
        {
          "name": "stderr",
          "output_type": "stream",
          "text": [
            "C:\\Users\\alexa\\anaconda3\\Lib\\site-packages\\sklearn\\base.py:457: UserWarning: X has feature names, but SVC was fitted without feature names\n",
            "  warnings.warn(\n"
          ]
        }
      ],
      "source": [
        "# Otra vez guardaremos registro del tiempo que nos toma crear esta predicción\n",
        "hora_inicio = time()\n",
        "# Iniciamos la predicción con nuestra X de prueba\n",
        "y_pred = clf.predict(X_test)\n",
        "# Mostramos el tiempo tomado para la predicción\n",
        "print(\"Predicción terminada en {} segundos\".format(time() - hora_inicio))"
      ]
    },
    {
      "cell_type": "code",
      "execution_count": null,
      "metadata": {
        "id": "BaFhe7cROXT3",
        "outputId": "b0662edf-8eb0-479b-decc-c2da33abcd75"
      },
      "outputs": [
        {
          "data": {
            "text/plain": [
              "0.765625"
            ]
          },
          "execution_count": 17,
          "metadata": {},
          "output_type": "execute_result"
        }
      ],
      "source": [
        "# Evaluamos la precisión\n",
        "accuracy_score(y_test, y_pred)"
      ]
    },
    {
      "cell_type": "markdown",
      "metadata": {
        "id": "qgrF2rBHOXT3"
      },
      "source": [
        "### Matriz de confusión\n",
        "\n",
        "Una matriz de confusión nos ayuda a tener una mejor idea del rendimiento de nuestro modelo. Se encarga de comparar la cantidad de aciertos de cada clase de nuestros datos de prueba (`y_test` en este caso) y nuestros datos calculados (`y_pred` en este caso)."
      ]
    },
    {
      "cell_type": "code",
      "execution_count": null,
      "metadata": {
        "id": "QRokGx7vOXT4",
        "outputId": "b77a5fe8-ed58-4e91-de12-4db99b06ea03"
      },
      "outputs": [
        {
          "data": {
            "text/plain": [
              "array([[118,  16],\n",
              "       [ 29,  29]], dtype=int64)"
            ]
          },
          "execution_count": 18,
          "metadata": {},
          "output_type": "execute_result"
        }
      ],
      "source": [
        "# La función confusion_matrix recibe las \"respuestas correctas\" y nuestras predicciones\n",
        "# genera una matriz que indica, para cada clase, la cantidad de predicciones correctas e incorrectas\n",
        "conf_diabetes = confusion_matrix(y_test, y_pred)\n",
        "conf_diabetes"
      ]
    },
    {
      "cell_type": "markdown",
      "metadata": {
        "id": "prGh1s3jOXT4"
      },
      "source": [
        "Debido a que es poco complicado comprender la matriz únicamente de forma numérica, vamos a crear una función que lo muestre de forma gráfica."
      ]
    },
    {
      "cell_type": "code",
      "execution_count": null,
      "metadata": {
        "id": "9BG1B3iPOXT4"
      },
      "outputs": [],
      "source": [
        "def plot_cm(cm, classes):\n",
        "    \"\"\"Esta función se encarga de generar un gráfico con nuestra matriz de confusión.\n",
        "    cm es la matriz generada por confusion_matrix\n",
        "    classes es una lista que contiene las posibles clases que puede predecir nuestro modelo\n",
        "    \"\"\"\n",
        "    plt.imshow(cm, cmap=plt.cm.Blues)\n",
        "    plt.title('Matriz de confusión')\n",
        "    plt.colorbar()\n",
        "    tick_marks = np.arange(len(classes))\n",
        "    plt.xticks(tick_marks, classes, rotation=45)\n",
        "    plt.yticks(tick_marks, classes)\n",
        "    thresh = cm.max() / 2.\n",
        "    for indice_fila, fila in enumerate(cm):\n",
        "        for indice_columna, columna in enumerate(fila):\n",
        "            if cm[indice_fila, indice_columna] > thresh:\n",
        "                color = \"white\"\n",
        "            else:\n",
        "                color = \"black\"\n",
        "            plt.text(\n",
        "                indice_columna,\n",
        "                indice_fila,\n",
        "                cm[indice_fila, indice_columna],\n",
        "                color=color,\n",
        "                horizontalalignment=\"center\"\n",
        "            )\n",
        "    plt.ylabel(\"Valores reales\")\n",
        "    plt.xlabel(\"Valores calculados\")\n",
        "    plt.show()"
      ]
    },
    {
      "cell_type": "code",
      "execution_count": null,
      "metadata": {
        "id": "4GnFjuU3OXT5",
        "outputId": "c55686d4-0826-47fc-ac81-039b46025ddb"
      },
      "outputs": [
        {
          "data": {
            "image/png": "[encoded data removed]",
            "text/plain": [
              "<Figure size 640x480 with 2 Axes>"
            ]
          },
          "metadata": {},
          "output_type": "display_data"
        }
      ],
      "source": [
        "# Generamos el gráfico llamando la función que creamos y enviando los parámetros\n",
        "# cm = nuestra matriz de confusión (conf_diabetes)\n",
        "# classes = las clases a predecir (si tienen diabetes o no)\n",
        "plot_cm(conf_diabetes, ['No diabetes', 'Sí diabetes'])"
      ]
    },
    {
      "cell_type": "code",
      "execution_count": null,
      "metadata": {
        "id": "RT2PCguwOXT6"
      },
      "outputs": [],
      "source": []
    }
  ],
  "metadata": {
    "kernelspec": {
      "display_name": "Python 3 (ipykernel)",
      "language": "python",
      "name": "python3"
    },
    "language_info": {
      "codemirror_mode": {
        "name": "ipython",
        "version": 3
      },
      "file_extension": ".py",
      "mimetype": "text/x-python",
      "name": "python",
      "nbconvert_exporter": "python",
      "pygments_lexer": "ipython3",
      "version": "3.11.4"
    },
    "colab": {
      "provenance": [],
      "include_colab_link": true
    }
  },
  "nbformat": 4,
  "nbformat_minor": 0
}